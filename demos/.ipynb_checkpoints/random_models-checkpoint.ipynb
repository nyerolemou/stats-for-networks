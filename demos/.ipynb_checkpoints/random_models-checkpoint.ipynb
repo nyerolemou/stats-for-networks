{
 "cells": [
  {
   "cell_type": "markdown",
   "metadata": {},
   "source": [
    "# Random graph models\n",
    "\n",
    "The aim of this notebook is to introduce a few random (undirected) graph models and to explore some of their properties. We'll look at the following models: \n",
    "\n",
    "- Bernoulli (Erdos-Renyi)\n",
    "- Watts-Strogatz\n",
    "- Newman-Moore-Watts\n",
    "- Barabasi-Albert\n",
    "- Stochastic blockmodel\n",
    "- Configuration \n",
    "- Geometric random graphs\n",
    "- Exponential\n",
    "\n",
    "## Why random models?\n",
    "\n",
    "A random graph is a model network in which the values of certain properties are fixed, but the network is in other respects random. (cite Networks, Newman, Ch.11). We use random models to generate families of graphs with similar properties, e.g. degree distribution, cluster coefficient and edge count. Given a real-world network"
   ]
  },
  {
   "cell_type": "code",
   "execution_count": null,
   "metadata": {},
   "outputs": [],
   "source": []
  }
 ],
 "metadata": {
  "kernelspec": {
   "display_name": "Python [conda env:naya] *",
   "language": "python",
   "name": "conda-env-naya-py"
  },
  "language_info": {
   "codemirror_mode": {
    "name": "ipython",
    "version": 3
   },
   "file_extension": ".py",
   "mimetype": "text/x-python",
   "name": "python",
   "nbconvert_exporter": "python",
   "pygments_lexer": "ipython3",
   "version": "3.6.8"
  }
 },
 "nbformat": 4,
 "nbformat_minor": 2
}
